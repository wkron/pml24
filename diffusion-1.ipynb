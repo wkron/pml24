{
  "cells": [
    {
      "cell_type": "markdown",
      "metadata": {
        "id": "Udtn5QjIRvAI"
      },
      "source": [
        "#Initialization"
      ]
    },
    {
      "cell_type": "code",
      "execution_count": 1,
      "metadata": {
        "id": "J7q4tcphpxao"
      },
      "outputs": [],
      "source": [
        "DEVICE = \"cpu\""
      ]
    },
    {
      "cell_type": "code",
      "execution_count": 2,
      "metadata": {
        "id": "ZIVhVSU4QJyX"
      },
      "outputs": [],
      "source": [
        "from sklearn.datasets import fetch_openml\n",
        "from sklearn.model_selection import train_test_split"
      ]
    },
    {
      "cell_type": "code",
      "execution_count": 3,
      "metadata": {
        "colab": {
          "base_uri": "https://localhost:8080/"
        },
        "id": "4nu186fZjYWm",
        "outputId": "b15d4128-e981-4b62-d676-7dcbae214cfd"
      },
      "outputs": [
        {
          "output_type": "execute_result",
          "data": {
            "text/plain": [
              "<torch._C.Generator at 0x7b6ef85bb870>"
            ]
          },
          "metadata": {},
          "execution_count": 3
        }
      ],
      "source": [
        "import torch\n",
        "import matplotlib.pyplot as plt\n",
        "import numpy as np\n",
        "from torch import nn, optim\n",
        "from torch.nn import functional as F\n",
        "from torchvision import datasets, transforms\n",
        "from torch.utils.data import Dataset, DataLoader\n",
        "from typing import Tuple\n",
        "from torch.distributions.continuous_bernoulli import ContinuousBernoulli\n",
        "\n",
        "torch.manual_seed(1012)\n",
        "\n",
        "\n"
      ]
    },
    {
      "cell_type": "code",
      "execution_count": 4,
      "metadata": {
        "colab": {
          "base_uri": "https://localhost:8080/"
        },
        "id": "fGno4IRlQLIw",
        "outputId": "095b4890-abf0-48c3-99f1-1a2bd0d6caf1"
      },
      "outputs": [
        {
          "output_type": "stream",
          "name": "stderr",
          "text": [
            "/usr/local/lib/python3.10/dist-packages/sklearn/datasets/_openml.py:968: FutureWarning: The default value of `parser` will change from `'liac-arff'` to `'auto'` in 1.4. You can set `parser='auto'` to silence this warning. Therefore, an `ImportError` will be raised from 1.4 if the dataset is dense and pandas is not installed. Note that the pandas parser may return different data types. See the Notes Section in fetch_openml's API doc for details.\n",
            "  warn(\n"
          ]
        }
      ],
      "source": [
        "mnist = fetch_openml('mnist_784', as_frame=False, cache=False)"
      ]
    },
    {
      "cell_type": "code",
      "execution_count": 5,
      "metadata": {
        "id": "4Pp31NqfNVWw"
      },
      "outputs": [],
      "source": [
        "class DatasetWrapper(Dataset):\n",
        "    def __init__(self, data, labels):\n",
        "        self.data = data\n",
        "        self.labels = labels\n",
        "\n",
        "    def __len__(self):\n",
        "        return len(self.data)\n",
        "\n",
        "    def __getitem__(self, idx):\n",
        "        return self.data[idx], self.labels[idx]"
      ]
    },
    {
      "cell_type": "code",
      "execution_count": 6,
      "metadata": {
        "id": "pW9ar1E3RJ7k"
      },
      "outputs": [],
      "source": [
        "X = mnist.data.astype('float32')\n",
        "y = mnist.target.astype('int64')\n",
        "\n",
        "X_train, X_test, y_train, y_test = train_test_split(X, y, test_size=0.25, random_state=42)\n",
        "X_train = X_train/255\n",
        "X_test = X_test/255\n",
        "\n",
        "\n",
        "train_ds = DatasetWrapper(X_train,y_train)\n",
        "test_ds = DatasetWrapper(X_test, y_test)\n",
        "train_loader = DataLoader(train_ds, batch_size=32, shuffle=True)\n",
        "test_loader = DataLoader(test_ds, batch_size=10, shuffle=True)\n",
        "\n",
        "train_loader = DataLoader(train_ds, batch_size=128, shuffle=True)\n",
        "test_loader = DataLoader(test_ds, batch_size=128, shuffle=True)"
      ]
    },
    {
      "cell_type": "markdown",
      "metadata": {
        "id": "WKdenL1wRuEc"
      },
      "source": []
    },
    {
      "cell_type": "markdown",
      "metadata": {
        "id": "HgDaQsbGpNIN"
      },
      "source": [
        "## Diffusion model second try"
      ]
    },
    {
      "cell_type": "code",
      "execution_count": null,
      "metadata": {
        "id": "Kg-k9lHOpSAH"
      },
      "outputs": [],
      "source": [
        "class Diffusion(nn.Module):\n",
        "    def __init__(self, data_dim=784, device=DEVICE):\n",
        "        super(Diffusion, self).__init__()\n",
        "        self.data_dim = data_dim\n",
        "        self.device = device\n",
        "        self.fc1 = nn.Linear(data_dim, data_dim)\n",
        "        self.fct = nn.Linear(4, data_dim)\n",
        "        #self.fc1 = nn.Linear(data_dim,49)\n",
        "        #self.fct = nn.Linear(4,49)\n",
        "\n",
        "        # Define transposed convolutional layers for upsampling\n",
        "        #self.trans_conv1 = nn.ConvTranspose2d(1, 1, kernel_size=4, stride=2, padding=1)\n",
        "        #self.trans_conv2 = nn.ConvTranspose2d(1, 1, kernel_size=4, stride=2, padding=1)\n",
        "\n",
        "        self.conv1 = nn.Sequential(\n",
        "            nn.Conv2d(1, 4, kernel_size=3, stride=1, padding=1),\n",
        "            nn.GELU(),\n",
        "            nn.Conv2d(4, 4, kernel_size=3, stride=1, padding=1),\n",
        "            nn.GELU(),\n",
        "            nn.Conv2d(4, 1, kernel_size=3, stride=1, padding=1),\n",
        "\n",
        "            nn.BatchNorm2d(1)\n",
        "        )\n",
        "\n",
        "        self.conv3 = nn.Sequential(\n",
        "            nn.Conv2d(1, 1, kernel_size=3, stride=1, padding=1),\n",
        "            nn.Conv2d(1, 1, kernel_size=3, stride=1, padding=1),\n",
        "            nn.BatchNorm2d(1)\n",
        "        )\n",
        "\n",
        "        #self.pool = nn.MaxPool2d(kernel_size=2, stride=2)\n",
        "\n",
        "        #self.conv2 = nn.Conv2d(32, 64, kernel_size=3, stride=1, padding=1)\n",
        "        #self.fc_out = nn.Linear(64 * 7 * 7, data_dim)\n",
        "\n",
        "        #self.fc2 = nn.Linear(32, 32)\n",
        "        #self.fc3 = nn.Linear(32, 2)\n",
        "        self.to(device)\n",
        "        self.conv2d=nn.ConvTranspose2d(1,1,kernel_size=3, stride=1, padding=1 )\n",
        "\n",
        "    def forward(self, x,t):\n",
        "        #we use a time-embedding here. neural networks are terrible at working directly with time as a real variable.\n",
        "        #we therefore replace it by a set of features t_embedding that just represent several sine waves with different\n",
        "        #frequency\n",
        "        omegas = 2*np.pi*torch.tensor([1.0/T,2.0/T,4.0/T,8.0/T]).reshape(1,-1)\n",
        "        t_embedding = torch.cos(omegas*t.reshape(-1,1))\n",
        "        #Network structure: a simple network with two hidden layers. the first\n",
        "        # two fully connected laers are just there to merge the time embedding with the input vector\n",
        "        x = F.relu(self.fc1(x)+self.fct(t_embedding))\n",
        "        x = x.reshape(x.shape[0],1,28,28)\n",
        "        #print(\"conv2dTranspose\", x.shape)\n",
        "        #x=F.gelu(self.conv1(x))\n",
        "        #print(\"conv1\", x.shape)\n",
        "        #print(\"conv2\", x.shape)\n",
        "        #print(\"conv3\", x.shape)\n",
        "        #x=F.gelu(self.conv1(x))\n",
        "        x=self.conv1(x)\n",
        "        #print(\"conv4\", x.shape)\n",
        "        x = x.view(-1, 784)\n",
        "        #print(\"x\", x.shape)\n",
        "        return x\n",
        "\n",
        "\n",
        "model = Diffusion()\n",
        "def weights_init(m):\n",
        "    if isinstance(m, nn.Linear) or isinstance(m, nn.Conv2d):\n",
        "        nn.init.xavier_uniform_(m.weight)\n",
        "        nn.init.zeros_(m.bias)\n",
        "\n",
        "model.apply(weights_init)"
      ]
    },
    {
      "cell_type": "code",
      "execution_count": 24,
      "metadata": {
        "id": "y-oI24QqYSja"
      },
      "outputs": [],
      "source": [
        "model = Diffusion()\n",
        "\n",
        "X = mnist.data.astype('float32')\n",
        "y = mnist.target.astype('int64')\n",
        "\n",
        "X_train, X_test, y_train, y_test = train_test_split(X, y, test_size=0.25, random_state=42)\n",
        "X_train = X_train/255\n",
        "X_test = X_test/255\n",
        "\n",
        "\n",
        "train_ds = DatasetWrapper(X_train,y_train)\n",
        "test_ds = DatasetWrapper(X_test, y_test)\n",
        "train_loader = DataLoader(train_ds, batch_size=32, shuffle=True)\n",
        "test_loader = DataLoader(test_ds, batch_size=10, shuffle=True)"
      ]
    },
    {
      "cell_type": "code",
      "execution_count": 25,
      "metadata": {
        "id": "fBR5O4XEYVet"
      },
      "outputs": [],
      "source": [
        "T =200\n",
        "betas = 0.0035*np.ones(T)\n",
        "alphas = np.zeros(T)\n",
        "for t in range(T):\n",
        "  alphas[t] = (1-0.0035)**t"
      ]
    },
    {
      "cell_type": "code",
      "execution_count": 10,
      "metadata": {
        "colab": {
          "base_uri": "https://localhost:8080/",
          "height": 243
        },
        "id": "S69GwERKYstc",
        "outputId": "ac5692d8-1837-4755-b0f8-9321017023c4"
      },
      "outputs": [
        {
          "output_type": "display_data",
          "data": {
            "text/plain": [
              "<Figure size 1200x600 with 5 Axes>"
            ],
            "image/png": "[encoded data removed]"
          },
          "metadata": {}
        }
      ],
      "source": [
        "N=len(X_train)\n",
        "noise_results = []\n",
        "ts = [0,50,100,150,199]\n",
        "for a in alphas[ts]:\n",
        "    x_noise = np.sqrt(a)*X_train + np.sqrt(1-a)*np.random.randn(784*N).reshape(N,784)\n",
        "    noise_results.append(x_noise)\n",
        "\n",
        "fig, ax = plt.subplots(1, 5, figsize=(12, 6))\n",
        "for i, res in enumerate(noise_results):\n",
        "    ax[i].imshow(res[0,:].reshape(28,28),cmap='gray')\n",
        "    ax[i].set_title(f\"t={ts[i]}\")\n",
        "\n",
        "plt.show()"
      ]
    },
    {
      "cell_type": "code",
      "execution_count": 11,
      "metadata": {
        "id": "94GzHo20eYsh"
      },
      "outputs": [],
      "source": [
        "def loss (Xs, model, T=T, alphas=alphas):\n",
        "    ts = torch.randint(T, size=(Xs[0].shape[0],)) # pick t uniformly at random\n",
        "    alpha = torch.tensor(alphas)[ts].reshape(-1,1)\n",
        "    epsilon = torch.normal(0., 1., size=Xs[0].shape)\n",
        "    samples = torch.sqrt(alpha)*Xs[0] + torch.sqrt(1-alpha)*epsilon\n",
        "    eps_model = model.forward(samples.type(torch.float32), ts)\n",
        "\n",
        "    loss = torch.sum((epsilon-eps_model)**2)/Xs[0].shape[0] # Normalization not contained in Eq.76\n",
        "    return loss"
      ]
    },
    {
      "cell_type": "code",
      "execution_count": null,
      "metadata": {
        "colab": {
          "base_uri": "https://localhost:8080/"
        },
        "id": "44kGVS0w9ied",
        "outputId": "22486b71-7098-4ccb-c1ea-42b95a1e7c67"
      },
      "outputs": [
        {
          "data": {
            "text/plain": [
              "52500"
            ]
          },
          "execution_count": 72,
          "metadata": {},
          "output_type": "execute_result"
        }
      ],
      "source": []
    },
    {
      "cell_type": "code",
      "execution_count": 26,
      "metadata": {
        "colab": {
          "base_uri": "https://localhost:8080/"
        },
        "id": "YQpwqlxafcAJ",
        "outputId": "60d244fd-c84b-4e38-8b49-09a08049844c"
      },
      "outputs": [
        {
          "output_type": "stream",
          "name": "stdout",
          "text": [
            "epoch: 0 avg loss: 1447.5373702528707 min loss 1309.296875 max loss 1598.77490234375\n",
            "epoch: 1 avg loss: 1238.4765213635692 min loss 1130.4537353515625 max loss 1359.2509765625\n",
            "epoch: 2 avg loss: 1061.6794355486602 min loss 952.399658203125 max loss 1161.6099853515625\n",
            "epoch: 3 avg loss: 887.4697015310192 min loss 786.2818603515625 max loss 996.0977172851562\n",
            "epoch: 4 avg loss: 780.4637311322888 min loss 729.5772705078125 max loss 838.52197265625\n",
            "epoch: 5 avg loss: 737.4969035723383 min loss 703.8020629882812 max loss 778.0466918945312\n",
            "epoch: 6 avg loss: 717.1195390458371 min loss 682.3387451171875 max loss 749.145263671875\n",
            "epoch: 7 avg loss: 699.2042513050588 min loss 660.3782958984375 max loss 732.2108764648438\n",
            "epoch: 8 avg loss: 682.0206505998034 min loss 645.4219970703125 max loss 720.341796875\n",
            "epoch: 9 avg loss: 665.9498950835048 min loss 628.3307495117188 max loss 708.8059692382812\n",
            "epoch: 10 avg loss: 652.1022130953401 min loss 619.7515258789062 max loss 690.4432983398438\n",
            "epoch: 11 avg loss: 640.0325157077192 min loss 608.8887939453125 max loss 681.7470703125\n",
            "epoch: 12 avg loss: 629.8299882273933 min loss 594.6318359375 max loss 660.6881103515625\n",
            "epoch: 13 avg loss: 621.263773414291 min loss 589.5814819335938 max loss 664.8583984375\n",
            "epoch: 14 avg loss: 614.2820066722844 min loss 585.117919921875 max loss 648.9888916015625\n",
            "epoch: 15 avg loss: 607.8457479064309 min loss 580.875 max loss 646.2338256835938\n",
            "epoch: 16 avg loss: 602.7496022486526 min loss 574.7094116210938 max loss 640.855712890625\n",
            "epoch: 17 avg loss: 597.8019890468488 min loss 565.9555053710938 max loss 638.7225341796875\n",
            "epoch: 18 avg loss: 593.6686879308539 min loss 568.0331420898438 max loss 648.232177734375\n",
            "epoch: 19 avg loss: 590.1480995564109 min loss 556.416748046875 max loss 629.3751831054688\n",
            "epoch: 20 avg loss: 586.3099972610427 min loss 552.8893432617188 max loss 640.7186889648438\n",
            "epoch: 21 avg loss: 582.7415233660878 min loss 551.4417114257812 max loss 618.8252563476562\n",
            "epoch: 22 avg loss: 579.4874923306221 min loss 549.6903076171875 max loss 616.65478515625\n",
            "epoch: 23 avg loss: 576.2500483520433 min loss 545.74560546875 max loss 620.8260498046875\n",
            "epoch: 24 avg loss: 573.490308167657 min loss 545.6967163085938 max loss 614.7489013671875\n",
            "epoch: 25 avg loss: 570.4395955403646 min loss 540.9837036132812 max loss 613.0834350585938\n",
            "epoch: 26 avg loss: 567.3000616228195 min loss 535.9661865234375 max loss 608.48974609375\n",
            "epoch: 27 avg loss: 564.3834192065623 min loss 537.287109375 max loss 597.9301147460938\n",
            "epoch: 28 avg loss: 562.0993433643739 min loss 531.0261840820312 max loss 599.0343627929688\n",
            "epoch: 29 avg loss: 559.4289870276675 min loss 529.771728515625 max loss 595.7178955078125\n",
            "epoch: 30 avg loss: 555.8468107587313 min loss 526.08984375 max loss 589.349609375\n",
            "epoch: 31 avg loss: 553.9033084848463 min loss 519.5255126953125 max loss 593.035888671875\n",
            "epoch: 32 avg loss: 551.0886374781003 min loss 521.421630859375 max loss 597.8756713867188\n",
            "epoch: 33 avg loss: 548.7207945847497 min loss 523.130859375 max loss 584.532958984375\n",
            "epoch: 34 avg loss: 546.5292942714284 min loss 521.6049194335938 max loss 583.77783203125\n",
            "epoch: 35 avg loss: 543.6658256386636 min loss 517.6058349609375 max loss 577.8016357421875\n",
            "epoch: 36 avg loss: 542.4032242407093 min loss 507.9656982421875 max loss 580.61279296875\n",
            "epoch: 37 avg loss: 540.0707525779821 min loss 516.4833984375 max loss 586.6350708007812\n",
            "epoch: 38 avg loss: 538.2789235600316 min loss 510.4234619140625 max loss 579.18603515625\n",
            "epoch: 39 avg loss: 537.07948860201 min loss 505.01654052734375 max loss 582.7854614257812\n",
            "epoch: 40 avg loss: 535.3518831112412 min loss 503.13433837890625 max loss 595.2562255859375\n",
            "epoch: 41 avg loss: 533.7487332136583 min loss 504.0433349609375 max loss 575.2172241210938\n",
            "epoch: 42 avg loss: 531.8696207235965 min loss 504.31793212890625 max loss 574.3536987304688\n",
            "epoch: 43 avg loss: 530.7009659324892 min loss 499.5854797363281 max loss 575.84375\n",
            "epoch: 44 avg loss: 529.360098160599 min loss 505.1472473144531 max loss 570.3472290039062\n",
            "epoch: 45 avg loss: 528.2203468820222 min loss 498.0106201171875 max loss 571.960693359375\n",
            "epoch: 46 avg loss: 526.1712284401958 min loss 498.4005126953125 max loss 569.7265014648438\n",
            "epoch: 47 avg loss: 524.2953687036713 min loss 491.03765869140625 max loss 562.5553588867188\n",
            "epoch: 48 avg loss: 523.265397224682 min loss 497.4412841796875 max loss 561.400146484375\n",
            "epoch: 49 avg loss: 522.0147495490614 min loss 494.16754150390625 max loss 558.72802734375\n",
            "epoch: 50 avg loss: 520.4783823221359 min loss 494.21209716796875 max loss 558.2689208984375\n",
            "epoch: 51 avg loss: 520.0300408827685 min loss 494.2256164550781 max loss 562.7344970703125\n",
            "epoch: 52 avg loss: 518.4954611564975 min loss 492.53009033203125 max loss 574.8118896484375\n",
            "epoch: 53 avg loss: 517.114471714501 min loss 487.19989013671875 max loss 564.5899658203125\n",
            "epoch: 54 avg loss: 516.0991267100258 min loss 488.5795593261719 max loss 554.527099609375\n",
            "epoch: 55 avg loss: 514.333315517465 min loss 489.1714782714844 max loss 571.597412109375\n",
            "epoch: 56 avg loss: 513.4286752127788 min loss 485.5879211425781 max loss 558.6578979492188\n",
            "epoch: 57 avg loss: 512.8994989761269 min loss 485.2236633300781 max loss 552.7864379882812\n",
            "epoch: 58 avg loss: 511.0699512544454 min loss 484.07159423828125 max loss 544.2060546875\n",
            "epoch: 59 avg loss: 509.9131489997227 min loss 482.248046875 max loss 549.4547119140625\n",
            "epoch: 60 avg loss: 509.3323323344545 min loss 482.91192626953125 max loss 548.8272705078125\n",
            "epoch: 61 avg loss: 507.13908132382244 min loss 478.0692443847656 max loss 545.6578979492188\n",
            "epoch: 62 avg loss: 506.7402795655636 min loss 478.3463439941406 max loss 554.2847900390625\n",
            "epoch: 63 avg loss: 505.6660976189074 min loss 477.40484619140625 max loss 557.0991821289062\n",
            "epoch: 64 avg loss: 504.2020748866033 min loss 479.0203552246094 max loss 545.1588134765625\n",
            "epoch: 65 avg loss: 503.4758122064659 min loss 472.43853759765625 max loss 546.7008056640625\n",
            "epoch: 66 avg loss: 502.2922081537613 min loss 476.11663818359375 max loss 546.2654418945312\n",
            "epoch: 67 avg loss: 501.1184111228445 min loss 470.7599792480469 max loss 539.3941650390625\n",
            "epoch: 68 avg loss: 500.43983650091286 min loss 473.8982849121094 max loss 554.3905029296875\n",
            "epoch: 69 avg loss: 498.7885816761228 min loss 471.2657470703125 max loss 553.0352783203125\n",
            "epoch: 70 avg loss: 497.2265136086454 min loss 470.89434814453125 max loss 543.0931396484375\n",
            "epoch: 71 avg loss: 496.9723846788889 min loss 468.61822509765625 max loss 539.5523071289062\n",
            "epoch: 72 avg loss: 495.7470796853576 min loss 470.9781188964844 max loss 531.9107055664062\n",
            "epoch: 73 avg loss: 495.35197557522565 min loss 463.3359069824219 max loss 530.8251342773438\n",
            "epoch: 74 avg loss: 494.3279713148899 min loss 467.84674072265625 max loss 540.5650024414062\n"
          ]
        }
      ],
      "source": [
        "model = Diffusion()\n",
        "optimizer = optim.Adam(model.parameters(), lr=0.0001)\n",
        "model.train()\n",
        "num_epochs = 75\n",
        "for e in range(num_epochs):\n",
        "  losses = []\n",
        "  for data in train_loader:\n",
        "      optimizer.zero_grad()\n",
        "      l = loss(data,model)\n",
        "      l.backward()\n",
        "      optimizer.step()\n",
        "      losses.append(l.item())\n",
        "\n",
        "  print(\"epoch:\",e ,\"avg loss:\", sum(losses)/len(losses), 'min loss',min(losses),'max loss', max(losses))"
      ]
    },
    {
      "cell_type": "markdown",
      "metadata": {
        "id": "0Q8mtqAQmVhA"
      },
      "source": []
    },
    {
      "cell_type": "code",
      "execution_count": 19,
      "metadata": {
        "id": "JSirCwvqf9av"
      },
      "outputs": [],
      "source": [
        "#Task 3: generate samples from the learned model\n",
        "#num: number of samples to generate\n",
        "#model: the trained model\n",
        "def generate_samples(model, num: int, alphas: np.ndarray=alphas) -> torch.Tensor:\n",
        "    #Xs = torch.tensor(np.sqrt(alphas[T-1])*X_test[:num] + np.sqrt(1-alphas[T-1])*np.random.randn(784*num).reshape(num,784),dtype=torch.float32)\n",
        "    Xs =  torch.tensor(X_test[:num])\n",
        "    #Xs = torch.normal(0.0,1.0,size=(num,784),dtype=torch.float32)\n",
        "    for t in reversed(range(T)):\n",
        "        alpha = torch.tensor(alphas)[t]\n",
        "        beta = torch.tensor(betas[t])\n",
        "        eps_model = model(Xs, t*torch.ones(num))\n",
        "        std_model = beta / torch.sqrt(1-alpha)\n",
        "        mu = (Xs-eps_model*std_model) / torch.sqrt(1-beta)\n",
        "        Xs = mu + torch.normal(0., 1., size=(num, 784)) * torch.sqrt(beta)\n",
        "    #print(plt.imshow(mu.reshape(28,28).detach().numpy(), cmap='gray'))\n",
        "    #print(plt.imshow(Xs.reshape(28,28).detach().numpy(), cmap='gray'))\n",
        "    #print(plt.imshow(eps_model.reshape(28,28).detach().numpy(), cmap='gray'))\n",
        "    #print(std_model)\n",
        "    return Xs\n",
        "samples = generate_samples(model,1).detach().numpy()"
      ]
    },
    {
      "cell_type": "code",
      "execution_count": null,
      "metadata": {
        "id": "z3i3rGn-mLpK"
      },
      "outputs": [],
      "source": [
        "plt.imshow(samples.reshape(28,28), cmap='gray')"
      ]
    },
    {
      "cell_type": "code",
      "execution_count": null,
      "metadata": {
        "id": "iGULVKK3Z5sn"
      },
      "outputs": [],
      "source": [
        "num_images = 10\n",
        "reconstructed_images = generate_samples(model,num_images).detach().numpy()\n",
        "\n",
        "plt.figure(figsize=(24, 8))\n",
        "for i in range(num_images):\n",
        "    # Original Images\n",
        "    plt.subplot(3, num_images, i + 1)\n",
        "    plt.imshow(test_ds[i][0].reshape(28, 28), cmap='gray')\n",
        "\n",
        "    plt.title('Original images')\n",
        "    # Reconstructed Images\n",
        "    plt.subplot(3, num_images, i + 1 + num_images)\n",
        "    plt.imshow(torch.tensor(np.sqrt(alphas[T-1])*X_test[i] + np.sqrt(1-alphas[T-1])*np.random.randn(784*num_images).reshape(num_images,784),dtype=torch.float32)[0].reshape(28, 28), cmap='gray')\n",
        "    plt.title('Prior')\n",
        "    plt.subplot(3, num_images, i + 1 + 2*num_images)\n",
        "    plt.imshow(reconstructed_images[i].reshape(28, 28), cmap='gray')\n",
        "    plt.title('Reconstructed')\n",
        "\n",
        "\n",
        "plt.show()"
      ]
    }
  ],
  "metadata": {
    "colab": {
      "toc_visible": true,
      "provenance": []
    },
    "kernelspec": {
      "display_name": "Python 3",
      "name": "python3"
    },
    "language_info": {
      "name": "python"
    }
  },
  "nbformat": 4,
  "nbformat_minor": 0
}